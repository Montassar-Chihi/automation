{
 "cells": [
  {
   "cell_type": "code",
   "execution_count": 1,
   "metadata": {},
   "outputs": [],
   "source": [
    "# import necessary libraries\n",
    "import re\n",
    "import pandas as pd\n",
    "import requests"
   ]
  },
  {
   "cell_type": "code",
   "execution_count": 2,
   "metadata": {},
   "outputs": [],
   "source": [
    "taxon_ids = [590,620,1279,1301,662,561,629,469,209,1763,234,286,11320,12637,11620,186536,10244,12059,2697049,11103,64320]"
   ]
  },
  {
   "cell_type": "code",
   "execution_count": 5,
   "metadata": {},
   "outputs": [],
   "source": [
    "for taxon_id in taxon_ids:\n",
    "    url = \"https://www.bv-brc.org/api/genome_feature/?eq(taxon_id,\"+str(taxon_id)+\")&limit(1,0)&http_accept=application/dna+fasta\"\n",
    "    response_API = requests.get(url)\n",
    "    big_limit = int(response_API.headers[\"Content-Range\"].split(\"/\")[1])\n",
    "    small_limit = 0\n",
    "    data = \"\"\n",
    "    while small_limit < big_limit:\n",
    "        url = \"https://www.bv-brc.org/api/genome_feature/?eq(taxon_id,\"+str(taxon_id)+\")&limit(25000,\"+str(small_limit)+\")&http_accept=application/dna+fasta\"\n",
    "        response_API = requests.get(url)\n",
    "        data += \"\\n\" + response_API.text\n",
    "        small_limit += 25000\n",
    "        break\n",
    "    url = \"https://bv-brc.org/api/taxonomy/\"+str(taxon_id)\n",
    "    response_API = requests.get(url)\n",
    "    name = response_API.json()[\"taxon_name\"]\n",
    "    with open(name, 'w') as f:\n",
    "        f.write(data)\n",
    "    break"
   ]
  }
 ],
 "metadata": {
  "kernelspec": {
   "display_name": "Python 3",
   "language": "python",
   "name": "python3"
  },
  "language_info": {
   "codemirror_mode": {
    "name": "ipython",
    "version": 3
   },
   "file_extension": ".py",
   "mimetype": "text/x-python",
   "name": "python",
   "nbconvert_exporter": "python",
   "pygments_lexer": "ipython3",
   "version": "3.8.3"
  }
 },
 "nbformat": 4,
 "nbformat_minor": 4
}
